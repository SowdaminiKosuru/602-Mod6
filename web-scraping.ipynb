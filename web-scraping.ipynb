{
 "cells": [
  {
   "cell_type": "markdown",
   "metadata": {},
   "source": [
    "# Web Mining and Applied NLP (44-620)\n",
    "\n",
    "## Web Scraping and NLP with Requests, BeautifulSoup, and spaCy\n",
    "\n",
    "### Sowdamini\n",
    "\n",
    "Perform the tasks described in the Markdown cells below.  When you have completed the assignment make sure your code cells have all been run (and have output beneath them) and ensure you have committed and pushed ALL of your changes to your assignment repository.\n",
    "\n",
    "Every question that requires you to write code will have a code cell underneath it; you may either write your entire solution in that cell or write it in a python file (`.py`), then import and run the appropriate code to answer the question."
   ]
  },
  {
   "cell_type": "code",
   "execution_count": 1,
   "metadata": {},
   "outputs": [
    {
     "name": "stdout",
     "output_type": "stream",
     "text": [
      "All prereqs installed.\n"
     ]
    }
   ],
   "source": [
    "# Before starting the project, try all these imports FIRST\n",
    "# Address any errors you get running this code cell \n",
    "# by installing the necessary packages into your active Python environment.\n",
    "# Try to resolve issues using your materials and the web.\n",
    "# If that doesn't work, ask for help in the discussion forums.\n",
    "# You can't complete the exercises until you import these - start early! \n",
    "# We also import Counter - you should have that already.\n",
    "\n",
    "# %conda info\n",
    "\n",
    "from collections import Counter\n",
    "import pickle\n",
    "import requests\n",
    "import spacy\n",
    "from bs4 import BeautifulSoup\n",
    "import matplotlib.pyplot as plt\n",
    "\n",
    "print('All prereqs installed.')"
   ]
  },
  {
   "cell_type": "markdown",
   "metadata": {},
   "source": [
    "1. Write code that extracts the article html from https://web.archive.org/web/20210327165005/https://hackaday.com/2021/03/22/how-laser-headlights-work/ and dumps it to a .pkl (or other appropriate file)"
   ]
  },
  {
   "cell_type": "markdown",
   "metadata": {},
   "source": [
    "## Question-1"
   ]
  },
  {
   "cell_type": "code",
   "execution_count": 2,
   "metadata": {},
   "outputs": [
    {
     "name": "stdout",
     "output_type": "stream",
     "text": [
      "200\n",
      "text/html; charset=UTF-8\n"
     ]
    }
   ],
   "source": [
    "import requests\n",
    "from bs4 import BeautifulSoup\n",
    "import pickle\n",
    "\n",
    "article_site = requests.get('https://web.archive.org/web/20210327165005/https://hackaday.com/2021/03/22/how-laser-headlights-work/')\n",
    "html_page = article_site.text\n",
    "\n",
    "print(article_site.status_code)\n",
    "print(article_site.headers['content-type'])\n",
    "\n",
    "with open('article.pkl', 'wb') as f:\n",
    "    pickle.dump(article_site.text, f)"
   ]
  },
  {
   "cell_type": "markdown",
   "metadata": {},
   "source": [
    "## Question-2"
   ]
  },
  {
   "cell_type": "markdown",
   "metadata": {},
   "source": [
    "2. Read in your article's html source from the file you created in question 1 and print it's text (use `.get_text()`)"
   ]
  },
  {
   "cell_type": "code",
   "execution_count": 3,
   "metadata": {},
   "outputs": [
    {
     "name": "stdout",
     "output_type": "stream",
     "text": [
      "\n",
      "\n",
      "how laser headlights work\n",
      "\n",
      "\n",
      "                130 comments            \n",
      "\n",
      "by:\n",
      "lewin day\n",
      "\n",
      "\n",
      "\n",
      "march 22, 2021\n",
      "\n",
      "\n",
      "\n",
      "\n",
      "\n",
      "\n",
      "\n",
      "\n",
      "when we think about the onward march of automotive technology, headlights aren’t usually the first thing that come to mind. engines, fuel efficiency, and the switch to electric power are all more front of mind. however, that doesn’t mean there aren’t thousands of engineers around the world working to improve the state of the art in automotive lighting day in, day out.\n",
      "sealed beam headlights gave way to more modern designs once regulations loosened up, while bulbs moved from simple halogens to xenon hids and, more recently, leds. now, a new technology is on the scene, with lasers!\n",
      "\n",
      "laser headlights?!\n",
      "bwm’s prototype laser headlight assemblies undergoing testing.\n",
      "the first image brought to mind by the phrase “laser headlights” is that of laser beams firing out the front of an automobile. obviously, coherent beams of monochromatic light would make for poor illumination outside of a very specific spot quite some distance away. thankfully for our eyes, laser headlights don’t work in this way at all.\n",
      "instead, laser headlights consist of one or more solid state laser diodes mounted inside the headlight. these blue lasers are fired at a yellow phosphor, similar to that used in white leds. this produces a powerful, vibrant white light that can then be bounced off reflectors and out of the headlights towards the road. laser headlights built in this way have several benefits. they’re more energy efficient than leds that put out the same amount of light, while also being more space efficient, too.\n",
      "bwm’s futuristic i8 was one of the first vehicles to ship with laser headlight technology.\n",
      "laser headlights are still a nascent technology, thus far only appearing in a few bmw, audi, and other select vehicles. bmw’s technology was developed in partnership with lighting experts osram. in practice, a regular led low-beam lamp is used, with the laser used to create an incredibly bright and focused spot, used for high-beams. this can provide illumination out to 600 meters ahead of the vehicle, double that of conventional led high beams. the lights use indium gallium nitride diode lasers that were originally used in projectors, with power levels above 1 watt. one of the challenges in implementing such technology in an automotive environment is the need for it to operate at temperature extremes. while research lasers and laser pointers may primarily be used at typical room temperatures, automotive headlights must be able to withstand everything from 40 degrees below zero up to 50 degrees c. thankfully, the laser’s high efficiency means it doesn’t have huge heat output of its own to further complicate things. other engineering challenges involve tailoring the optics package for the rough-and-tumble, high vibration environment found in the automotive application. it’s also important to ensure, as with any such device, that the end user can’t be exposed to harmful laser radiation in the event of accident or malfunction.\n",
      "tearing down the laser headlight\n",
      "a marketing image showing the construction of an aftermarket led/laser headlight. we’d take the laser power with a grain of salt — it’s difficult to imagine a 10 w laser shining directly on some small leds without melting a hole through the board in short order.\n",
      "an aftermarket has sprung up too, with delightfully innovative designs. combined laser/led headlights are readily available on alibaba, designed as a drop in replacement for projector lamps on existing vehicles. these often use an led low-beam, and a combined led/laser high beam, where the laser diode shoots directly at the led phosphor to excite it further, rather than using its own. these units often also come with fan cooling to keep the laser and leds below their maximum operational temperature. such developments are exciting, though it’s important to be wary of the performance of unknown aftermarket headlights. many aftermarket led headlight “upgrades” fail to pass muster when it comes to real-world performance, and there’s no reason to believe hybrid led/laser designs will be any different. we’d love to pass a selection of these parts through a full iihs test protocol, but that’s sadly beyond the scope (and budget!) of this article.\n",
      "however, [mikeselectricstuff] has happened to lay his hands on both the bmw and aftermarket parts, tearing them all down in his workshop to see what makes them tick. the differences are multitude when laid bare on the bench. the aliexpress part is relatively simple, wired up no differently from a regular headlight. interestingly, however, the laser high-beam circuit runs all the time in these parts. to prevent blinding other road users, a shutter is kept in place to block the light, which is moved out of the way with a solenoid when the driver turns on the high beam switch.\n",
      "where the aftermarket part is a little out of left field, the bmw design is another thing entirely. the cutting-edge headlights are hooked up with multiple connectors and over 30 conductors, with much of the driver electronics living in an external controller. much of this is to drive the various leds and stepper motors for slewing the headlights when steering. however, the laser assembly brings its own complexities. twin light sensors are built inside to monitor the laser beam, and a special metal blocking arm sits directly in front of the diode, presumably to stop the laser light leaving the headlight in the event the phosphor coating burns through. it’s truly wild to get a look inside a modern luxury car’s headlight and see just how far we’ve come from the old days of simple sealed beams.\n",
      "cost versus performance\n",
      "despite the efficiency gains available, the technology remains expensive. powerful laser diodes don’t come cheap, after all. however, as the technology trickles down to lower-end models, it’s likely that we could see economies of scale change that for the better. indeed, if national authorities begin to demand higher performance headlights as standard, we could see laser headlights become the norm, rather than an expensive luxury. the technology could naturally be applied to home and commercial lighting, too — though we suspect the potential gains are limited enough that led lighting will remain the norm for some time to come.\n",
      "the high light output of laser headlights in a compact package allows engineers greater freedom when designing the front-end of a car.\n",
      "as it currently stands, much of the appeal of the new technology is about the packaging benefits, which allow automotive designers greater freedom around the headlight area. such concerns are less of a factor when it comes to light fittings in the home or office, or indeed, on lower-end automobiles. regardless, it’s an exciting new application for lasers and one we’ll be sure to see more of in the future.\n",
      " \n",
      "\n",
      "\n",
      "\n",
      "\n",
      " \n",
      "\n",
      "\n",
      "\n",
      "\n",
      "\n",
      "\n",
      "\n",
      "\n",
      "\n",
      "\n",
      "\n",
      "\n",
      "\n",
      "\n",
      "\n",
      "\n",
      "\n",
      "\n",
      "\n",
      "posted in car hacks, engineering, featured, laser hacks, slidertagged laser, laser headlight, laser headlights, light \n",
      "\n"
     ]
    }
   ],
   "source": [
    "with open('article.pkl', 'rb') as f:\n",
    "    article_html = pickle.load(f)\n",
    "\n",
    "soup = BeautifulSoup(article_html, 'html.parser')\n",
    "article_element = soup.find('article')\n",
    "\n",
    "#Here used lower as part of the next step i.e Question-3\n",
    "\n",
    "article_element = article_element.get_text().lower()\n",
    "print(article_element)"
   ]
  },
  {
   "cell_type": "markdown",
   "metadata": {},
   "source": [
    "3. Load the article text into a trained `spaCy` pipeline, and determine the 5 most frequent tokens (converted to lower case).  Print the common tokens with an appropriate label.  Additionally, print the tokens their frequencies (with appropriate labels). Make sure to remove things we don't care about (punctuation, stopwords, whitespace)."
   ]
  },
  {
   "cell_type": "markdown",
   "metadata": {},
   "source": [
    "## Question-3"
   ]
  },
  {
   "cell_type": "code",
   "execution_count": 4,
   "metadata": {},
   "outputs": [],
   "source": [
    "def not_space_pun_stop(token):\n",
    "    return not (token.is_space or token.is_punct or token.is_stop)"
   ]
  },
  {
   "cell_type": "code",
   "execution_count": 5,
   "metadata": {},
   "outputs": [
    {
     "name": "stdout",
     "output_type": "stream",
     "text": [
      "[('laser', 35), ('headlights', 19), ('headlight', 11), ('technology', 10), ('led', 10), ('light', 9), ('high', 8), ('beam', 7), ('automotive', 6), ('leds', 6)]\n",
      "{'led', 'laser', 'technology', 'headlights', 'headlight'}\n"
     ]
    }
   ],
   "source": [
    "import spacy as sp\n",
    "from spacytextblob.spacytextblob import SpacyTextBlob\n",
    "from collections import Counter\n",
    "\n",
    "nlp = sp.load('en_core_web_sm')\n",
    "nlp.add_pipe('spacytextblob')\n",
    "doc = nlp(article_element)\n",
    "\n",
    "#Remove all the space, puntuation, stop words\n",
    "without_space_punct_stop = [token for token in doc if not_space_pun_stop(token)]\n",
    "#print(without_space_punct_stop)\n",
    "\n",
    "\n",
    "word_freq_tokens = Counter(map(str,without_space_punct_stop))\n",
    "print(word_freq_tokens.most_common(10))\n",
    "\n",
    "#Getting the most 5 common tokens to be used in Question-5\n",
    "token_set = set()\n",
    "for token, freq in word_freq_tokens.most_common(5):\n",
    "    token_set.add(token)\n",
    "print(token_set)"
   ]
  },
  {
   "cell_type": "markdown",
   "metadata": {},
   "source": [
    "4. Load the article text into a trained `spaCy` pipeline, and determine the 5 most frequent lemmas (converted to lower case).  Print the common lemmas with an appropriate label.  Additionally, print the lemmas with their frequencies (with appropriate labels). Make sure to remove things we don't care about (punctuation, stopwords, whitespace)."
   ]
  },
  {
   "cell_type": "markdown",
   "metadata": {},
   "source": [
    "## Question-4"
   ]
  },
  {
   "cell_type": "code",
   "execution_count": 6,
   "metadata": {},
   "outputs": [
    {
     "name": "stdout",
     "output_type": "stream",
     "text": [
      "[('laser', 40), ('headlight', 30), ('beam', 12), ('technology', 10), ('light', 10), ('lead', 10), ('high', 9), ('come', 7), ('automotive', 6), ('design', 6)]\n",
      "{'laser', 'technology', 'headlight', 'beam', 'light'}\n"
     ]
    }
   ],
   "source": [
    "frequent_lemmas = [token.lemma_ for token in doc if not_space_pun_stop(token)]\n",
    "freq_lemmas = Counter(frequent_lemmas)\n",
    "print(freq_lemmas.most_common(10))\n",
    "\n",
    "#Getting the most 5 common lemmas to be used in Question-5\n",
    "lemma_set = set()\n",
    "for lemma, freq in freq_lemmas.most_common(5):\n",
    "    lemma_set.add(lemma)\n",
    "print(lemma_set)"
   ]
  },
  {
   "cell_type": "markdown",
   "metadata": {},
   "source": [
    "5. Define the following methods:\n",
    "    * `score_sentence_by_token(sentence, interesting_token)` that takes a sentence and a list of interesting token and returns the number of times that any of the interesting words appear in the sentence divided by the number of words in the sentence\n",
    "    * `score_sentence_by_lemma(sentence, interesting_lemmas)` that takes a sentence and a list of interesting lemmas and returns the number of times that any of the interesting lemmas appear in the sentence divided by the number of words in the sentence\n",
    "    \n",
    "You may find some of the code from the in class notes useful; feel free to use methods (rewrite them in this cell as well).  Test them by showing the score of the first sentence in your article using the frequent tokens and frequent lemmas identified in question 3."
   ]
  },
  {
   "cell_type": "markdown",
   "metadata": {},
   "source": [
    "## Question-5"
   ]
  },
  {
   "cell_type": "code",
   "execution_count": 7,
   "metadata": {},
   "outputs": [
    {
     "name": "stdout",
     "output_type": "stream",
     "text": [
      "************ Sentence Score by Token *******************\n",
      "0.2608695652173913 : posted in car hacks, engineering, featured, laser hacks, slidertagged laser, laser headlight, laser headlights, light \n",
      "************ Sentence Score by Lemma *******************\n",
      "0.30434782608695654 : posted in car hacks, engineering, featured, laser hacks, slidertagged laser, laser headlight, laser headlights, light \n"
     ]
    }
   ],
   "source": [
    "def score_sentence(doc, common_5_set):\n",
    "    score_list = []\n",
    "    sentences = list(doc.sents)\n",
    "    for sentence in sentences:\n",
    "        count = 0\n",
    "        word_count =0\n",
    "        for token in sentence:\n",
    "            if token.lemma_ in common_5_set:\n",
    "                count += 1\n",
    "            word_count += 1 \n",
    "        score = count/word_count\n",
    "        score_list.append(score)\n",
    "    sent_str = str(sentence).replace('\\n','').replace('  ',' ')\n",
    "    print(score,\":\",sent_str)\n",
    "    return score_list\n",
    "                \n",
    "print(\"************ Sentence Score by Token *******************\")\n",
    "score_list_token = score_sentence(doc,token_set)\n",
    "print(\"************ Sentence Score by Lemma *******************\")\n",
    "score_list_lemma = score_sentence(doc,lemma_set)"
   ]
  },
  {
   "cell_type": "markdown",
   "metadata": {},
   "source": [
    "6. Make a list containing the scores (using tokens) of every sentence in the article, and plot a histogram with appropriate titles and axis labels of the scores. From your histogram, what seems to be the most common range of scores (put the answer in a comment after your code)?"
   ]
  },
  {
   "cell_type": "markdown",
   "metadata": {},
   "source": [
    "## Question-6"
   ]
  },
  {
   "cell_type": "code",
   "execution_count": 8,
   "metadata": {},
   "outputs": [
    {
     "name": "stdout",
     "output_type": "stream",
     "text": [
      "[0.09302325581395349, 0.0, 0.0, 0.06666666666666667, 0.21052631578947367, 0.2, 0.11538461538461539, 0.0, 0.17142857142857143, 0.1111111111111111, 0.041666666666666664, 0.2, 0.038461538461538464, 0.16666666666666666, 0.125, 0.08333333333333333, 0.03125, 0.0, 0.045454545454545456, 0.043478260869565216, 0.07142857142857142, 0.0, 0.09259259259259259, 0.07692307692307693, 0.0, 0.08333333333333333, 0.05128205128205128, 0.1, 0.05, 0.05405405405405406, 0.0, 0.0, 0.0, 0.0625, 0.05555555555555555, 0.0, 0.03571428571428571, 0.10526315789473684, 0.1, 0.06818181818181818, 0.030303030303030304, 0.06666666666666667, 0.09090909090909091, 0.034482758620689655, 0.10344827586206896, 0.02702702702702703, 0.07142857142857142, 0.0, 0.04, 0.2608695652173913]\n"
     ]
    },
    {
     "data": {
      "image/png": "[encoded data removed]",
      "text/plain": [
       "<Figure size 432x288 with 1 Axes>"
      ]
     },
     "metadata": {
      "needs_background": "light"
     },
     "output_type": "display_data"
    }
   ],
   "source": [
    "from matplotlib import pyplot as plt\n",
    "\n",
    "print(score_list_token)\n",
    "\n",
    "fig, ax = plt.subplots(1, 1)\n",
    "ax.hist(score_list_token,edgecolor = 'black')\n",
    "# Set title\n",
    "ax.set_title(\"Histogram for Score by Tokens\")\n",
    "  \n",
    "# adding labels\n",
    "ax.set_xlabel('Scores')\n",
    "ax.set_ylabel('Frequency')\n",
    "\n",
    "plt.show()"
   ]
  },
  {
   "cell_type": "markdown",
   "metadata": {},
   "source": [
    "## I see that the frequency of the score ranging from 0 to 12. From the graph i see that the range of values from 0.025 to 0.05 has the most occurrence of 12 times. "
   ]
  },
  {
   "cell_type": "markdown",
   "metadata": {},
   "source": [
    "7. Make a list containing the scores (using lemmas) of every sentence in the article, and plot a histogram with appropriate titles and axis labels of the scores.  From your histogram, what seems to be the most common range of scores (put the answer in a comment after your code)?"
   ]
  },
  {
   "cell_type": "markdown",
   "metadata": {},
   "source": [
    "## Question-7"
   ]
  },
  {
   "cell_type": "code",
   "execution_count": 9,
   "metadata": {},
   "outputs": [
    {
     "name": "stdout",
     "output_type": "stream",
     "text": [
      "[0.09302325581395349, 0.0, 0.0, 0.06666666666666667, 0.21052631578947367, 0.2, 0.15384615384615385, 0.08695652173913043, 0.17142857142857143, 0.05555555555555555, 0.08333333333333333, 0.2, 0.038461538461538464, 0.16666666666666666, 0.125, 0.08333333333333333, 0.09375, 0.047619047619047616, 0.09090909090909091, 0.043478260869565216, 0.07142857142857142, 0.0, 0.09259259259259259, 0.05128205128205128, 0.0, 0.08333333333333333, 0.10256410256410256, 0.05, 0.05, 0.05405405405405406, 0.0, 0.0, 0.0, 0.0625, 0.1111111111111111, 0.03389830508474576, 0.03571428571428571, 0.05263157894736842, 0.1, 0.13636363636363635, 0.06060606060606061, 0.06666666666666667, 0.09090909090909091, 0.034482758620689655, 0.10344827586206896, 0.02702702702702703, 0.08928571428571429, 0.03571428571428571, 0.04, 0.30434782608695654]\n"
     ]
    },
    {
     "data": {
      "image/png": "[encoded data removed]",
      "text/plain": [
       "<Figure size 432x288 with 1 Axes>"
      ]
     },
     "metadata": {
      "needs_background": "light"
     },
     "output_type": "display_data"
    }
   ],
   "source": [
    "from matplotlib import pyplot as plt\n",
    "\n",
    "print(score_list_lemma)\n",
    "\n",
    "fig, ax = plt.subplots(1, 1)\n",
    "ax.hist(score_list_lemma,edgecolor = 'black')\n",
    "# Set title\n",
    "ax.set_title(\"Histogram for Score by Lemmas\")\n",
    "  \n",
    "# adding labels\n",
    "ax.set_xlabel('Scores')\n",
    "ax.set_ylabel('Frequency')\n",
    "\n",
    "plt.show()"
   ]
  },
  {
   "cell_type": "markdown",
   "metadata": {},
   "source": [
    "I see that the frequency ranges from 0 to 14 from histogram. If i can compare the score with tokens and lemmas, tokens list has many values between 0.0 to 0.025 but lemmas has only 8 frequency. The most scores are in range of 0.025 to little more than 0.05."
   ]
  },
  {
   "cell_type": "markdown",
   "metadata": {},
   "source": [
    "8. Which tokens and lexems would be ommitted from the lists generated in questions 3 and 4 if we only wanted to consider nouns as interesting words?  How might we change the code to only consider nouns? Put your answer in this Markdown cell (you can edit it by double clicking it)."
   ]
  },
  {
   "cell_type": "markdown",
   "metadata": {},
   "source": [
    "## Question -8 "
   ]
  },
  {
   "cell_type": "markdown",
   "metadata": {},
   "source": [
    " i see the tokens(space,comma,numerics) has to be removed and lemmas with plural words are said to be removed from lemmas list. I would change the code in Question - 3 where we were trying to vomit only white space and include few functions to remove few extra's by makeing a list and use that list to get the final list od nouns"
   ]
  }
 ],
 "metadata": {
  "kernelspec": {
   "display_name": "Python 3 (ipykernel)",
   "language": "python",
   "name": "python3"
  },
  "language_info": {
   "codemirror_mode": {
    "name": "ipython",
    "version": 3
   },
   "file_extension": ".py",
   "mimetype": "text/x-python",
   "name": "python",
   "nbconvert_exporter": "python",
   "pygments_lexer": "ipython3",
   "version": "3.9.12"
  }
 },
 "nbformat": 4,
 "nbformat_minor": 4
}
